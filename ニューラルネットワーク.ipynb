{
 "cells": [
  {
   "cell_type": "code",
   "execution_count": 5,
   "metadata": {},
   "outputs": [
    {
     "name": "stdout",
     "output_type": "stream",
     "text": [
      "Collecting torch\n",
      "  Downloading torch-1.8.1-cp38-none-macosx_10_9_x86_64.whl (119.6 MB)\n",
      "\u001b[K     |████████████████████████████████| 119.6 MB 417 kB/s eta 0:00:01\n",
      "\u001b[?25hRequirement already satisfied: typing-extensions in /Users/kitamurahiroto/opt/anaconda3/lib/python3.8/site-packages (from torch) (3.7.4.3)\n",
      "Requirement already satisfied: numpy in /Users/kitamurahiroto/opt/anaconda3/lib/python3.8/site-packages (from torch) (1.20.1)\n",
      "Installing collected packages: torch\n",
      "Successfully installed torch-1.8.1\n",
      "\u001b[33mWARNING: You are using pip version 21.0.1; however, version 21.1 is available.\n",
      "You should consider upgrading via the '/Users/kitamurahiroto/opt/anaconda3/bin/python -m pip install --upgrade pip' command.\u001b[0m\n",
      "Note: you may need to restart the kernel to use updated packages.\n"
     ]
    }
   ],
   "source": [
    "pip install torch"
   ]
  },
  {
   "cell_type": "code",
   "execution_count": 6,
   "metadata": {},
   "outputs": [],
   "source": [
    "import torch"
   ]
  },
  {
   "cell_type": "code",
   "execution_count": 7,
   "metadata": {},
   "outputs": [
    {
     "data": {
      "text/plain": [
       "'1.8.1'"
      ]
     },
     "execution_count": 7,
     "metadata": {},
     "output_type": "execute_result"
    }
   ],
   "source": [
    "torch.__version__"
   ]
  },
  {
   "cell_type": "code",
   "execution_count": 10,
   "metadata": {},
   "outputs": [],
   "source": [
    "# torch.cuda.get_device_name(0)"
   ]
  },
  {
   "cell_type": "code",
   "execution_count": null,
   "metadata": {},
   "outputs": [],
   "source": [
    "#network root "
   ]
  },
  {
   "cell_type": "code",
   "execution_count": 11,
   "metadata": {},
   "outputs": [],
   "source": [
    "import torch"
   ]
  },
  {
   "cell_type": "code",
   "execution_count": 12,
   "metadata": {},
   "outputs": [],
   "source": [
    "import torch.nn as nn"
   ]
  },
  {
   "cell_type": "code",
   "execution_count": 14,
   "metadata": {},
   "outputs": [
    {
     "data": {
      "text/plain": [
       "Linear(in_features=3, out_features=2, bias=True)"
      ]
     },
     "execution_count": 14,
     "metadata": {},
     "output_type": "execute_result"
    }
   ],
   "source": [
    "fc = nn.Linear(3,2)\n",
    "fc"
   ]
  },
  {
   "cell_type": "code",
   "execution_count": null,
   "metadata": {},
   "outputs": [],
   "source": [
    "#wight"
   ]
  },
  {
   "cell_type": "code",
   "execution_count": 15,
   "metadata": {},
   "outputs": [
    {
     "data": {
      "text/plain": [
       "Parameter containing:\n",
       "tensor([[ 0.1214, -0.5692,  0.3833],\n",
       "        [ 0.2849, -0.1440,  0.2709]], requires_grad=True)"
      ]
     },
     "execution_count": 15,
     "metadata": {},
     "output_type": "execute_result"
    }
   ],
   "source": [
    "fc.weight"
   ]
  },
  {
   "cell_type": "code",
   "execution_count": 17,
   "metadata": {},
   "outputs": [
    {
     "data": {
      "text/plain": [
       "Parameter containing:\n",
       "tensor([ 0.1490, -0.4718], requires_grad=True)"
      ]
     },
     "execution_count": 17,
     "metadata": {},
     "output_type": "execute_result"
    }
   ],
   "source": [
    "fc.bias"
   ]
  },
  {
   "cell_type": "code",
   "execution_count": null,
   "metadata": {},
   "outputs": [],
   "source": [
    "#seed 固定する"
   ]
  },
  {
   "cell_type": "code",
   "execution_count": 19,
   "metadata": {},
   "outputs": [
    {
     "data": {
      "text/plain": [
       "<torch._C.Generator at 0x7fe2b530f1b0>"
      ]
     },
     "execution_count": 19,
     "metadata": {},
     "output_type": "execute_result"
    }
   ],
   "source": [
    "torch.manual_seed(0)"
   ]
  },
  {
   "cell_type": "code",
   "execution_count": 20,
   "metadata": {},
   "outputs": [],
   "source": [
    "fc = nn.Linear(3,2)"
   ]
  },
  {
   "cell_type": "code",
   "execution_count": 21,
   "metadata": {},
   "outputs": [
    {
     "data": {
      "text/plain": [
       "Parameter containing:\n",
       "tensor([[-0.0043,  0.3097, -0.4752],\n",
       "        [-0.4249, -0.2224,  0.1548]], requires_grad=True)"
      ]
     },
     "execution_count": 21,
     "metadata": {},
     "output_type": "execute_result"
    }
   ],
   "source": [
    "fc.weight"
   ]
  },
  {
   "cell_type": "code",
   "execution_count": 22,
   "metadata": {},
   "outputs": [
    {
     "data": {
      "text/plain": [
       "Parameter containing:\n",
       "tensor([-0.0114,  0.4578], requires_grad=True)"
      ]
     },
     "execution_count": 22,
     "metadata": {},
     "output_type": "execute_result"
    }
   ],
   "source": [
    "fc.bias"
   ]
  },
  {
   "cell_type": "code",
   "execution_count": null,
   "metadata": {},
   "outputs": [],
   "source": []
  },
  {
   "cell_type": "code",
   "execution_count": 25,
   "metadata": {},
   "outputs": [
    {
     "data": {
      "text/plain": [
       "tensor([1., 2., 3.])"
      ]
     },
     "execution_count": 25,
     "metadata": {},
     "output_type": "execute_result"
    }
   ],
   "source": [
    "x = torch.Tensor([1,2,3])\n",
    "x"
   ]
  },
  {
   "cell_type": "code",
   "execution_count": 26,
   "metadata": {},
   "outputs": [
    {
     "data": {
      "text/plain": [
       "torch.Tensor"
      ]
     },
     "execution_count": 26,
     "metadata": {},
     "output_type": "execute_result"
    }
   ],
   "source": [
    "type(x)"
   ]
  },
  {
   "cell_type": "code",
   "execution_count": 28,
   "metadata": {},
   "outputs": [
    {
     "data": {
      "text/plain": [
       "torch.Size([3])"
      ]
     },
     "execution_count": 28,
     "metadata": {},
     "output_type": "execute_result"
    }
   ],
   "source": [
    "x.shape"
   ]
  },
  {
   "cell_type": "code",
   "execution_count": null,
   "metadata": {},
   "outputs": [],
   "source": [
    "#call method"
   ]
  },
  {
   "cell_type": "code",
   "execution_count": 29,
   "metadata": {},
   "outputs": [
    {
     "data": {
      "text/plain": [
       "tensor([-0.8219,  0.0526], grad_fn=<AddBackward0>)"
      ]
     },
     "execution_count": 29,
     "metadata": {},
     "output_type": "execute_result"
    }
   ],
   "source": [
    "u = fc(x)\n",
    "u"
   ]
  },
  {
   "cell_type": "code",
   "execution_count": null,
   "metadata": {},
   "outputs": [],
   "source": []
  },
  {
   "cell_type": "code",
   "execution_count": null,
   "metadata": {},
   "outputs": [],
   "source": [
    "#not line"
   ]
  },
  {
   "cell_type": "code",
   "execution_count": 30,
   "metadata": {},
   "outputs": [],
   "source": [
    "import torch.nn.functional as F"
   ]
  },
  {
   "cell_type": "code",
   "execution_count": 32,
   "metadata": {},
   "outputs": [
    {
     "data": {
      "text/plain": [
       "tensor([0.0000, 0.0526], grad_fn=<ReluBackward0>)"
      ]
     },
     "execution_count": 32,
     "metadata": {},
     "output_type": "execute_result"
    }
   ],
   "source": [
    "#ReLU method\n",
    "h = F.relu(u)\n",
    "h"
   ]
  },
  {
   "cell_type": "code",
   "execution_count": null,
   "metadata": {},
   "outputs": [],
   "source": []
  },
  {
   "cell_type": "code",
   "execution_count": null,
   "metadata": {},
   "outputs": [],
   "source": [
    "#目的関数＝損失関数　＋　正則化項"
   ]
  },
  {
   "cell_type": "code",
   "execution_count": 33,
   "metadata": {},
   "outputs": [
    {
     "data": {
      "text/plain": [
       "tensor([[1.],\n",
       "        [3.]])"
      ]
     },
     "execution_count": 33,
     "metadata": {},
     "output_type": "execute_result"
    }
   ],
   "source": [
    "#\n",
    "t = torch.Tensor([[1],[3]])\n",
    "t"
   ]
  },
  {
   "cell_type": "code",
   "execution_count": 34,
   "metadata": {},
   "outputs": [
    {
     "data": {
      "text/plain": [
       "tensor([[2.],\n",
       "        [4.]])"
      ]
     },
     "execution_count": 34,
     "metadata": {},
     "output_type": "execute_result"
    }
   ],
   "source": [
    "#predict\n",
    "y = torch.Tensor([[2],[4]])\n",
    "y"
   ]
  },
  {
   "cell_type": "code",
   "execution_count": null,
   "metadata": {},
   "outputs": [],
   "source": [
    "#mean **"
   ]
  },
  {
   "cell_type": "code",
   "execution_count": 35,
   "metadata": {},
   "outputs": [
    {
     "data": {
      "text/plain": [
       "tensor(1.)"
      ]
     },
     "execution_count": 35,
     "metadata": {},
     "output_type": "execute_result"
    }
   ],
   "source": [
    "F.mse_loss(y,t)"
   ]
  },
  {
   "cell_type": "code",
   "execution_count": null,
   "metadata": {},
   "outputs": [],
   "source": [
    "#### nn(torch.nn)          →パラメータをもつ\n",
    "#### F(torch.nn.functional)→パラメータをもたない"
   ]
  },
  {
   "cell_type": "code",
   "execution_count": null,
   "metadata": {},
   "outputs": [],
   "source": []
  },
  {
   "cell_type": "code",
   "execution_count": null,
   "metadata": {},
   "outputs": [],
   "source": [
    "###dataset "
   ]
  },
  {
   "cell_type": "code",
   "execution_count": 36,
   "metadata": {},
   "outputs": [],
   "source": [
    "import torch\n",
    "import torch.nn as nn\n",
    "import torch.nn.functional as F\n",
    "\n"
   ]
  },
  {
   "cell_type": "code",
   "execution_count": 37,
   "metadata": {},
   "outputs": [],
   "source": [
    "import sklearn"
   ]
  },
  {
   "cell_type": "code",
   "execution_count": 38,
   "metadata": {},
   "outputs": [],
   "source": [
    "from sklearn.datasets import load_breast_cancer"
   ]
  },
  {
   "cell_type": "code",
   "execution_count": 41,
   "metadata": {},
   "outputs": [],
   "source": [
    "breast_cancer = load_breast_cancer()"
   ]
  },
  {
   "cell_type": "code",
   "execution_count": null,
   "metadata": {},
   "outputs": [],
   "source": [
    "#take"
   ]
  },
  {
   "cell_type": "code",
   "execution_count": 54,
   "metadata": {},
   "outputs": [],
   "source": [
    "x = breast_cancer['data']\n",
    "t = breast_cancer['target']"
   ]
  },
  {
   "cell_type": "code",
   "execution_count": 55,
   "metadata": {},
   "outputs": [
    {
     "data": {
      "text/plain": [
       "(569, 30)"
      ]
     },
     "execution_count": 55,
     "metadata": {},
     "output_type": "execute_result"
    }
   ],
   "source": [
    "x.shape"
   ]
  },
  {
   "cell_type": "code",
   "execution_count": 56,
   "metadata": {},
   "outputs": [
    {
     "data": {
      "text/plain": [
       "(569,)"
      ]
     },
     "execution_count": 56,
     "metadata": {},
     "output_type": "execute_result"
    }
   ],
   "source": [
    "t.shape"
   ]
  },
  {
   "cell_type": "code",
   "execution_count": 57,
   "metadata": {},
   "outputs": [],
   "source": [
    "x = torch.tensor(x, dtype=torch.float32)\n",
    "t = torch.tensor(t, dtype=torch.int64)"
   ]
  },
  {
   "cell_type": "code",
   "execution_count": 58,
   "metadata": {},
   "outputs": [
    {
     "ename": "TypeError",
     "evalue": "dtype must be a type, str, or dtype object",
     "output_type": "error",
     "traceback": [
      "\u001b[0;31m---------------------------------------------------------------------------\u001b[0m",
      "\u001b[0;31mTypeError\u001b[0m                                 Traceback (most recent call last)",
      "\u001b[0;32m<ipython-input-58-34fa87a5cab8>\u001b[0m in \u001b[0;36m<module>\u001b[0;34m\u001b[0m\n\u001b[0;32m----> 1\u001b[0;31m \u001b[0mtype\u001b[0m\u001b[0;34m(\u001b[0m\u001b[0mx\u001b[0m\u001b[0;34m)\u001b[0m\u001b[0;34m,\u001b[0m \u001b[0mt\u001b[0m\u001b[0;34m.\u001b[0m\u001b[0mtype\u001b[0m\u001b[0;34m(\u001b[0m\u001b[0mt\u001b[0m\u001b[0;34m)\u001b[0m\u001b[0;34m\u001b[0m\u001b[0;34m\u001b[0m\u001b[0m\n\u001b[0m",
      "\u001b[0;31mTypeError\u001b[0m: dtype must be a type, str, or dtype object"
     ]
    }
   ],
   "source": [
    "type(x), t.type(t)"
   ]
  },
  {
   "cell_type": "code",
   "execution_count": 59,
   "metadata": {},
   "outputs": [
    {
     "data": {
      "text/plain": [
       "(torch.float32, torch.int64)"
      ]
     },
     "execution_count": 59,
     "metadata": {},
     "output_type": "execute_result"
    }
   ],
   "source": [
    "x.dtype, t.dtype"
   ]
  },
  {
   "cell_type": "code",
   "execution_count": 60,
   "metadata": {},
   "outputs": [
    {
     "data": {
      "text/plain": [
       "(torch.Size([569, 30]), torch.Size([569]))"
      ]
     },
     "execution_count": 60,
     "metadata": {},
     "output_type": "execute_result"
    }
   ],
   "source": [
    "x.shape, t.shape"
   ]
  },
  {
   "cell_type": "code",
   "execution_count": null,
   "metadata": {},
   "outputs": [],
   "source": []
  },
  {
   "cell_type": "code",
   "execution_count": null,
   "metadata": {},
   "outputs": [],
   "source": [
    "#DATA LOADER"
   ]
  },
  {
   "cell_type": "code",
   "execution_count": 61,
   "metadata": {},
   "outputs": [
    {
     "data": {
      "text/plain": [
       "<torch.utils.data.dataset.TensorDataset at 0x7fe2b7809f40>"
      ]
     },
     "execution_count": 61,
     "metadata": {},
     "output_type": "execute_result"
    }
   ],
   "source": [
    "dataset = torch.utils.data.TensorDataset(x,t)\n",
    "dataset"
   ]
  },
  {
   "cell_type": "code",
   "execution_count": 62,
   "metadata": {},
   "outputs": [
    {
     "data": {
      "text/plain": [
       "torch.utils.data.dataset.TensorDataset"
      ]
     },
     "execution_count": 62,
     "metadata": {},
     "output_type": "execute_result"
    }
   ],
   "source": [
    "type(dataset)"
   ]
  },
  {
   "cell_type": "code",
   "execution_count": 63,
   "metadata": {},
   "outputs": [
    {
     "data": {
      "text/plain": [
       "(tensor([1.7990e+01, 1.0380e+01, 1.2280e+02, 1.0010e+03, 1.1840e-01, 2.7760e-01,\n",
       "         3.0010e-01, 1.4710e-01, 2.4190e-01, 7.8710e-02, 1.0950e+00, 9.0530e-01,\n",
       "         8.5890e+00, 1.5340e+02, 6.3990e-03, 4.9040e-02, 5.3730e-02, 1.5870e-02,\n",
       "         3.0030e-02, 6.1930e-03, 2.5380e+01, 1.7330e+01, 1.8460e+02, 2.0190e+03,\n",
       "         1.6220e-01, 6.6560e-01, 7.1190e-01, 2.6540e-01, 4.6010e-01, 1.1890e-01]),\n",
       " tensor(0))"
      ]
     },
     "execution_count": 63,
     "metadata": {},
     "output_type": "execute_result"
    }
   ],
   "source": [
    "dataset[0]"
   ]
  },
  {
   "cell_type": "code",
   "execution_count": null,
   "metadata": {},
   "outputs": [],
   "source": [
    "#sample dataset train: val: test = 60%:20%:20%"
   ]
  },
  {
   "cell_type": "code",
   "execution_count": 64,
   "metadata": {},
   "outputs": [
    {
     "data": {
      "text/plain": [
       "(341, 113, 115)"
      ]
     },
     "execution_count": 64,
     "metadata": {},
     "output_type": "execute_result"
    }
   ],
   "source": [
    "n_train = int(len(dataset) *0.6)\n",
    "n_val = int(len(dataset) * 0.2)\n",
    "n_val = int(len(dataset) *0.2)\n",
    "n_test = len(dataset) - n_train - n_val\n",
    "\n",
    "n_train,n_val,n_test"
   ]
  },
  {
   "cell_type": "code",
   "execution_count": null,
   "metadata": {},
   "outputs": [],
   "source": [
    "#seed "
   ]
  },
  {
   "cell_type": "code",
   "execution_count": 65,
   "metadata": {},
   "outputs": [
    {
     "data": {
      "text/plain": [
       "<torch._C.Generator at 0x7fe2b530f1b0>"
      ]
     },
     "execution_count": 65,
     "metadata": {},
     "output_type": "execute_result"
    }
   ],
   "source": [
    "torch.manual_seed(0)"
   ]
  },
  {
   "cell_type": "code",
   "execution_count": null,
   "metadata": {},
   "outputs": [],
   "source": [
    "#divice"
   ]
  },
  {
   "cell_type": "code",
   "execution_count": 69,
   "metadata": {},
   "outputs": [
    {
     "data": {
      "text/plain": [
       "(<torch.utils.data.dataset.Subset at 0x7fe2b7867070>,\n",
       " <torch.utils.data.dataset.Subset at 0x7fe2b78670d0>,\n",
       " <torch.utils.data.dataset.Subset at 0x7fe2b7867130>)"
      ]
     },
     "execution_count": 69,
     "metadata": {},
     "output_type": "execute_result"
    }
   ],
   "source": [
    "train, val, test = torch.utils.data.random_split(dataset,[n_train, n_val, n_test])\n",
    "train, val, test"
   ]
  },
  {
   "cell_type": "code",
   "execution_count": 77,
   "metadata": {},
   "outputs": [
    {
     "data": {
      "text/plain": [
       "(341, 115)"
      ]
     },
     "execution_count": 77,
     "metadata": {},
     "output_type": "execute_result"
    }
   ],
   "source": [
    "len(train), len(test)"
   ]
  },
  {
   "cell_type": "code",
   "execution_count": 78,
   "metadata": {},
   "outputs": [],
   "source": [
    "batch_size = 10"
   ]
  },
  {
   "cell_type": "code",
   "execution_count": 86,
   "metadata": {},
   "outputs": [],
   "source": [
    "train_loader = torch.utils.data.DataLoader(train, batch_size, shuffle=True, drop_last=True)\n",
    "val_loader = torch.utils.data.DataLoader(val, batch_size)\n",
    "test_loader = torch.utils.data.DataLoader(test, batch_size)"
   ]
  },
  {
   "cell_type": "code",
   "execution_count": 87,
   "metadata": {},
   "outputs": [],
   "source": [
    "x, t = next(iter(train_loader))"
   ]
  },
  {
   "cell_type": "code",
   "execution_count": 88,
   "metadata": {},
   "outputs": [
    {
     "data": {
      "text/plain": [
       "torch.Size([10, 30])"
      ]
     },
     "execution_count": 88,
     "metadata": {},
     "output_type": "execute_result"
    }
   ],
   "source": [
    "x.shape"
   ]
  },
  {
   "cell_type": "code",
   "execution_count": 89,
   "metadata": {},
   "outputs": [
    {
     "data": {
      "text/plain": [
       "torch.Size([10])"
      ]
     },
     "execution_count": 89,
     "metadata": {},
     "output_type": "execute_result"
    }
   ],
   "source": [
    "t.shape"
   ]
  },
  {
   "cell_type": "code",
   "execution_count": 90,
   "metadata": {
    "collapsed": true,
    "jupyter": {
     "outputs_hidden": true
    }
   },
   "outputs": [
    {
     "data": {
      "text/plain": [
       "tensor([[1.6780e+01, 1.8800e+01, 1.0930e+02, 8.8630e+02, 8.8650e-02, 9.1820e-02,\n",
       "         8.4220e-02, 6.5760e-02, 1.8930e-01, 5.5340e-02, 5.9900e-01, 1.3910e+00,\n",
       "         4.1290e+00, 6.7340e+01, 6.1230e-03, 2.4700e-02, 2.6260e-02, 1.6040e-02,\n",
       "         2.0910e-02, 3.4930e-03, 2.0050e+01, 2.6300e+01, 1.3070e+02, 1.2600e+03,\n",
       "         1.1680e-01, 2.1190e-01, 2.3180e-01, 1.4740e-01, 2.8100e-01, 7.2280e-02],\n",
       "        [1.1470e+01, 1.6030e+01, 7.3020e+01, 4.0270e+02, 9.0760e-02, 5.8860e-02,\n",
       "         2.5870e-02, 2.3220e-02, 1.6340e-01, 6.3720e-02, 1.7070e-01, 7.6150e-01,\n",
       "         1.0900e+00, 1.2250e+01, 9.1910e-03, 8.5480e-03, 9.4000e-03, 6.3150e-03,\n",
       "         1.7550e-02, 3.0090e-03, 1.2510e+01, 2.0790e+01, 7.9670e+01, 4.7580e+02,\n",
       "         1.5310e-01, 1.1200e-01, 9.8230e-02, 6.5480e-02, 2.8510e-01, 8.7630e-02],\n",
       "        [1.3610e+01, 2.4690e+01, 8.7760e+01, 5.7260e+02, 9.2580e-02, 7.8620e-02,\n",
       "         5.2850e-02, 3.0850e-02, 1.7610e-01, 6.1300e-02, 2.3100e-01, 1.0050e+00,\n",
       "         1.7520e+00, 1.9830e+01, 4.0880e-03, 1.1740e-02, 1.7960e-02, 6.8800e-03,\n",
       "         1.3230e-02, 1.4650e-03, 1.6890e+01, 3.5640e+01, 1.1320e+02, 8.4870e+02,\n",
       "         1.4710e-01, 2.8840e-01, 3.7960e-01, 1.3290e-01, 3.4700e-01, 7.9000e-02],\n",
       "        [9.4050e+00, 2.1700e+01, 5.9600e+01, 2.7120e+02, 1.0440e-01, 6.1590e-02,\n",
       "         2.0470e-02, 1.2570e-02, 2.0250e-01, 6.6010e-02, 4.3020e-01, 2.8780e+00,\n",
       "         2.7590e+00, 2.5170e+01, 1.4740e-02, 1.6740e-02, 1.3670e-02, 8.6740e-03,\n",
       "         3.0440e-02, 4.5900e-03, 1.0850e+01, 3.1240e+01, 6.8730e+01, 3.5940e+02,\n",
       "         1.5260e-01, 1.1930e-01, 6.1410e-02, 3.7700e-02, 2.8720e-01, 8.3040e-02],\n",
       "        [1.4200e+01, 2.0530e+01, 9.2410e+01, 6.1840e+02, 8.9310e-02, 1.1080e-01,\n",
       "         5.0630e-02, 3.0580e-02, 1.5060e-01, 6.0090e-02, 3.4780e-01, 1.0180e+00,\n",
       "         2.7490e+00, 3.1010e+01, 4.1070e-03, 3.2880e-02, 2.8210e-02, 1.3500e-02,\n",
       "         1.6100e-02, 2.7440e-03, 1.6450e+01, 2.7260e+01, 1.1210e+02, 8.2850e+02,\n",
       "         1.1530e-01, 3.4290e-01, 2.5120e-01, 1.3390e-01, 2.5340e-01, 7.8580e-02],\n",
       "        [1.8220e+01, 1.8870e+01, 1.1870e+02, 1.0270e+03, 9.7460e-02, 1.1170e-01,\n",
       "         1.1300e-01, 7.9500e-02, 1.8070e-01, 5.6640e-02, 4.0410e-01, 5.5030e-01,\n",
       "         2.5470e+00, 4.8900e+01, 4.8210e-03, 1.6590e-02, 2.4080e-02, 1.1430e-02,\n",
       "         1.2750e-02, 2.4510e-03, 2.1840e+01, 2.5000e+01, 1.4090e+02, 1.4850e+03,\n",
       "         1.4340e-01, 2.7630e-01, 3.8530e-01, 1.7760e-01, 2.8120e-01, 8.1980e-02],\n",
       "        [2.1560e+01, 2.2390e+01, 1.4200e+02, 1.4790e+03, 1.1100e-01, 1.1590e-01,\n",
       "         2.4390e-01, 1.3890e-01, 1.7260e-01, 5.6230e-02, 1.1760e+00, 1.2560e+00,\n",
       "         7.6730e+00, 1.5870e+02, 1.0300e-02, 2.8910e-02, 5.1980e-02, 2.4540e-02,\n",
       "         1.1140e-02, 4.2390e-03, 2.5450e+01, 2.6400e+01, 1.6610e+02, 2.0270e+03,\n",
       "         1.4100e-01, 2.1130e-01, 4.1070e-01, 2.2160e-01, 2.0600e-01, 7.1150e-02],\n",
       "        [1.7460e+01, 3.9280e+01, 1.1340e+02, 9.2060e+02, 9.8120e-02, 1.2980e-01,\n",
       "         1.4170e-01, 8.8110e-02, 1.8090e-01, 5.9660e-02, 5.3660e-01, 8.5610e-01,\n",
       "         3.0020e+00, 4.9000e+01, 4.8600e-03, 2.7850e-02, 2.6020e-02, 1.3740e-02,\n",
       "         1.2260e-02, 2.7590e-03, 2.2510e+01, 4.4870e+01, 1.4120e+02, 1.4080e+03,\n",
       "         1.3650e-01, 3.7350e-01, 3.2410e-01, 2.0660e-01, 2.8530e-01, 8.4960e-02],\n",
       "        [8.5710e+00, 1.3100e+01, 5.4530e+01, 2.2130e+02, 1.0360e-01, 7.6320e-02,\n",
       "         2.5650e-02, 1.5100e-02, 1.6780e-01, 7.1260e-02, 1.2670e-01, 6.7930e-01,\n",
       "         1.0690e+00, 7.2540e+00, 7.8970e-03, 1.7620e-02, 1.8010e-02, 7.3200e-03,\n",
       "         1.5920e-02, 3.9250e-03, 9.4730e+00, 1.8450e+01, 6.3300e+01, 2.7560e+02,\n",
       "         1.6410e-01, 2.2350e-01, 1.7540e-01, 8.5120e-02, 2.9830e-01, 1.0490e-01],\n",
       "        [1.1800e+01, 1.7260e+01, 7.5260e+01, 4.3190e+02, 9.0870e-02, 6.2320e-02,\n",
       "         2.8530e-02, 1.6380e-02, 1.8470e-01, 6.0190e-02, 3.4380e-01, 1.1400e+00,\n",
       "         2.2250e+00, 2.5060e+01, 5.4630e-03, 1.9640e-02, 2.0790e-02, 5.3980e-03,\n",
       "         1.4770e-02, 3.0710e-03, 1.3450e+01, 2.4490e+01, 8.6000e+01, 5.6200e+02,\n",
       "         1.2440e-01, 1.7260e-01, 1.4490e-01, 5.3560e-02, 2.7790e-01, 8.1210e-02]])"
      ]
     },
     "execution_count": 90,
     "metadata": {},
     "output_type": "execute_result"
    }
   ],
   "source": [
    "x"
   ]
  },
  {
   "cell_type": "code",
   "execution_count": 91,
   "metadata": {},
   "outputs": [
    {
     "data": {
      "text/plain": [
       "tensor([0, 1, 0, 1, 1, 0, 0, 0, 1, 1])"
      ]
     },
     "execution_count": 91,
     "metadata": {},
     "output_type": "execute_result"
    }
   ],
   "source": [
    "t"
   ]
  },
  {
   "cell_type": "code",
   "execution_count": null,
   "metadata": {},
   "outputs": [],
   "source": []
  },
  {
   "cell_type": "code",
   "execution_count": null,
   "metadata": {},
   "outputs": [],
   "source": []
  },
  {
   "cell_type": "code",
   "execution_count": null,
   "metadata": {},
   "outputs": [],
   "source": []
  },
  {
   "cell_type": "code",
   "execution_count": null,
   "metadata": {},
   "outputs": [],
   "source": []
  },
  {
   "cell_type": "code",
   "execution_count": null,
   "metadata": {},
   "outputs": [],
   "source": [
    "#############################network train"
   ]
  },
  {
   "cell_type": "code",
   "execution_count": 112,
   "metadata": {},
   "outputs": [
    {
     "data": {
      "text/plain": [
       "'1.8.1'"
      ]
     },
     "execution_count": 112,
     "metadata": {},
     "output_type": "execute_result"
    }
   ],
   "source": [
    "import torch\n",
    "import torch.nn as nn\n",
    "import torch.nn.functional as F\n",
    "torch.__version__\n"
   ]
  },
  {
   "cell_type": "code",
   "execution_count": 113,
   "metadata": {},
   "outputs": [],
   "source": [
    "from sklearn.datasets import load_breast_cancer\n",
    "breast_cancer = load_breast_cancer()\n",
    "x = breast_cancer['data']\n",
    "t = breast_cancer['target']\n"
   ]
  },
  {
   "cell_type": "code",
   "execution_count": 114,
   "metadata": {},
   "outputs": [
    {
     "data": {
      "text/plain": [
       "((569, 30), (569,))"
      ]
     },
     "execution_count": 114,
     "metadata": {},
     "output_type": "execute_result"
    }
   ],
   "source": [
    "x.shape, t.shape"
   ]
  },
  {
   "cell_type": "code",
   "execution_count": 115,
   "metadata": {},
   "outputs": [],
   "source": [
    "x = torch.tensor(x, dtype=torch.float32)\n",
    "t = torch.tensor(t, dtype=torch.int64)"
   ]
  },
  {
   "cell_type": "code",
   "execution_count": 116,
   "metadata": {},
   "outputs": [
    {
     "data": {
      "text/plain": [
       "<torch.utils.data.dataset.TensorDataset at 0x7fe2b78098e0>"
      ]
     },
     "execution_count": 116,
     "metadata": {},
     "output_type": "execute_result"
    }
   ],
   "source": [
    "dataset = torch.utils.data.TensorDataset(x,t)\n",
    "dataset\n"
   ]
  },
  {
   "cell_type": "code",
   "execution_count": 117,
   "metadata": {},
   "outputs": [],
   "source": [
    "n_train = int(len(dataset) * 0.6)\n",
    "n_val = int(len(dataset) * 0.2)\n",
    "N_test = len(dataset) - n_train - n_val\n",
    "\n",
    "\n",
    "torch.manual_seed(0)\n",
    "\n",
    "\n",
    "train, val, test = torch.utils.data.random_split(dataset, [n_train, n_val, n_test])"
   ]
  },
  {
   "cell_type": "code",
   "execution_count": 118,
   "metadata": {},
   "outputs": [
    {
     "data": {
      "text/plain": [
       "(341, 113, 115)"
      ]
     },
     "execution_count": 118,
     "metadata": {},
     "output_type": "execute_result"
    }
   ],
   "source": [
    "len(train), len(val), len(test)"
   ]
  },
  {
   "cell_type": "code",
   "execution_count": 119,
   "metadata": {},
   "outputs": [],
   "source": [
    "batch_size = 10"
   ]
  },
  {
   "cell_type": "code",
   "execution_count": 120,
   "metadata": {},
   "outputs": [],
   "source": [
    "train_loader = torch.utils.data.DataLoader(train,batch_size, shuffle=True, drop_last=True)\n",
    "val_loader = torch.utils.data.DataLoader(train,batch_size)\n",
    "test_loader = torch.utils.data.DataLoader(train,batch_size)"
   ]
  },
  {
   "cell_type": "code",
   "execution_count": 121,
   "metadata": {},
   "outputs": [],
   "source": [
    "x, t = train[0]"
   ]
  },
  {
   "cell_type": "code",
   "execution_count": 122,
   "metadata": {},
   "outputs": [
    {
     "data": {
      "text/plain": [
       "torch.Size([30])"
      ]
     },
     "execution_count": 122,
     "metadata": {},
     "output_type": "execute_result"
    }
   ],
   "source": [
    "x.shape"
   ]
  },
  {
   "cell_type": "code",
   "execution_count": 123,
   "metadata": {},
   "outputs": [
    {
     "data": {
      "text/plain": [
       "tensor(1)"
      ]
     },
     "execution_count": 123,
     "metadata": {},
     "output_type": "execute_result"
    }
   ],
   "source": [
    "t"
   ]
  },
  {
   "cell_type": "code",
   "execution_count": 126,
   "metadata": {},
   "outputs": [
    {
     "data": {
      "text/plain": [
       "torch.Size([1, 30])"
      ]
     },
     "execution_count": 126,
     "metadata": {},
     "output_type": "execute_result"
    }
   ],
   "source": [
    "x.unsqueeze(0).shape"
   ]
  },
  {
   "cell_type": "code",
   "execution_count": 128,
   "metadata": {},
   "outputs": [
    {
     "data": {
      "text/plain": [
       "<torch._C.Generator at 0x7fe2b530f1b0>"
      ]
     },
     "execution_count": 128,
     "metadata": {},
     "output_type": "execute_result"
    }
   ],
   "source": [
    "torch.manual_seed(0)"
   ]
  },
  {
   "cell_type": "code",
   "execution_count": 130,
   "metadata": {},
   "outputs": [],
   "source": [
    "fc1 = nn.Linear(30,10)\n",
    "fc2 = nn.Linear(10,2)"
   ]
  },
  {
   "cell_type": "code",
   "execution_count": 131,
   "metadata": {},
   "outputs": [
    {
     "data": {
      "text/plain": [
       "torch.Size([1, 30])"
      ]
     },
     "execution_count": 131,
     "metadata": {},
     "output_type": "execute_result"
    }
   ],
   "source": [
    "x.unsqueeze(0).shape"
   ]
  },
  {
   "cell_type": "code",
   "execution_count": 134,
   "metadata": {},
   "outputs": [
    {
     "data": {
      "text/plain": [
       "tensor([[  50.9289,  137.7259, -125.6362,  136.7067,  100.7003,  -34.0021,\n",
       "         -101.2300, -128.9460, -124.8382,  104.6964]], grad_fn=<AddmmBackward>)"
      ]
     },
     "execution_count": 134,
     "metadata": {},
     "output_type": "execute_result"
    }
   ],
   "source": [
    "h = fc1(x.unsqueeze(0))\n",
    "h"
   ]
  },
  {
   "cell_type": "code",
   "execution_count": 135,
   "metadata": {},
   "outputs": [
    {
     "data": {
      "text/plain": [
       "torch.Size([1, 10])"
      ]
     },
     "execution_count": 135,
     "metadata": {},
     "output_type": "execute_result"
    }
   ],
   "source": [
    "h.shape"
   ]
  },
  {
   "cell_type": "code",
   "execution_count": 138,
   "metadata": {},
   "outputs": [
    {
     "data": {
      "text/plain": [
       "tensor([[ 50.9289, 137.7259,   0.0000, 136.7067, 100.7003,   0.0000,   0.0000,\n",
       "           0.0000,   0.0000, 104.6964]], grad_fn=<ReluBackward0>)"
      ]
     },
     "execution_count": 138,
     "metadata": {},
     "output_type": "execute_result"
    }
   ],
   "source": [
    "h = F.relu(h)\n",
    "h"
   ]
  },
  {
   "cell_type": "code",
   "execution_count": 141,
   "metadata": {},
   "outputs": [
    {
     "data": {
      "text/plain": [
       "tensor([[-19.7637,  51.7108]], grad_fn=<AddmmBackward>)"
      ]
     },
     "execution_count": 141,
     "metadata": {},
     "output_type": "execute_result"
    }
   ],
   "source": [
    "h = fc2(h)\n",
    "h"
   ]
  },
  {
   "cell_type": "code",
   "execution_count": 143,
   "metadata": {},
   "outputs": [
    {
     "name": "stderr",
     "output_type": "stream",
     "text": [
      "<ipython-input-143-d6b540ee8966>:1: UserWarning: Implicit dimension choice for softmax has been deprecated. Change the call to include dim=X as an argument.\n",
      "  F.softmax(h)\n"
     ]
    },
    {
     "data": {
      "text/plain": [
       "tensor([[-19.7637,  51.7108]], grad_fn=<AddmmBackward>)"
      ]
     },
     "execution_count": 143,
     "metadata": {},
     "output_type": "execute_result"
    }
   ],
   "source": [
    "F.softmax(h)\n",
    "h"
   ]
  },
  {
   "cell_type": "code",
   "execution_count": 147,
   "metadata": {},
   "outputs": [],
   "source": [
    "class Net(nn.Module):\n",
    "    \n",
    "    def __init__(self):\n",
    "        super().__init__() \n",
    "        self.fc1 = nn.Linear(30,10)\n",
    "        self.fc2 = nn.Linear(10,2)\n",
    "        \n",
    "    def forward(self, x):\n",
    "        h = self.fc1(x)\n",
    "        h = F.relu(h)\n",
    "        h = self.fc2(h)\n",
    "        \n",
    "        return h\n",
    "        \n",
    "        "
   ]
  },
  {
   "cell_type": "code",
   "execution_count": 148,
   "metadata": {},
   "outputs": [],
   "source": [
    "torch.manual_seed(0)\n",
    "\n",
    "net = Net()"
   ]
  },
  {
   "cell_type": "code",
   "execution_count": 149,
   "metadata": {},
   "outputs": [
    {
     "data": {
      "text/plain": [
       "Net(\n",
       "  (fc1): Linear(in_features=30, out_features=10, bias=True)\n",
       "  (fc2): Linear(in_features=10, out_features=2, bias=True)\n",
       ")"
      ]
     },
     "execution_count": 149,
     "metadata": {},
     "output_type": "execute_result"
    }
   ],
   "source": [
    "net"
   ]
  },
  {
   "cell_type": "code",
   "execution_count": 151,
   "metadata": {},
   "outputs": [
    {
     "data": {
      "text/plain": [
       "torch.Size([1, 30])"
      ]
     },
     "execution_count": 151,
     "metadata": {},
     "output_type": "execute_result"
    }
   ],
   "source": [
    "x.unsqueeze(0).shape"
   ]
  },
  {
   "cell_type": "code",
   "execution_count": 155,
   "metadata": {},
   "outputs": [
    {
     "data": {
      "text/plain": [
       "tensor([[22.3667, 57.7020]], grad_fn=<AddmmBackward>)"
      ]
     },
     "execution_count": 155,
     "metadata": {},
     "output_type": "execute_result"
    }
   ],
   "source": [
    "# net.forward(x.undqueeze(0))\n",
    "net(x.unsqueeze(0))"
   ]
  },
  {
   "cell_type": "raw",
   "metadata": {},
   "source": []
  },
  {
   "cell_type": "code",
   "execution_count": null,
   "metadata": {},
   "outputs": [],
   "source": [
    "##### loss function cross function"
   ]
  },
  {
   "cell_type": "code",
   "execution_count": null,
   "metadata": {},
   "outputs": [],
   "source": [
    "###log softmax = cross function"
   ]
  },
  {
   "cell_type": "code",
   "execution_count": 158,
   "metadata": {},
   "outputs": [
    {
     "name": "stdout",
     "output_type": "stream",
     "text": [
      "Parameter containing:\n",
      "tensor([[-0.0014,  0.0979, -0.1503, -0.1344, -0.0703,  0.0490, -0.0036,  0.1448,\n",
      "         -0.0162,  0.0483, -0.0552, -0.0359, -0.1744, -0.1209, -0.0753,  0.0068,\n",
      "          0.0722,  0.1095, -0.1238, -0.0795,  0.0663,  0.1516, -0.0376,  0.1366,\n",
      "         -0.0294,  0.0193,  0.1653, -0.1694, -0.1149, -0.0462],\n",
      "        [-0.0712,  0.1577, -0.1183, -0.0840, -0.1276, -0.1710, -0.1066,  0.1569,\n",
      "          0.0815,  0.0885,  0.0096, -0.0936,  0.0309, -0.1705, -0.1319, -0.0941,\n",
      "          0.1152,  0.1070, -0.0810, -0.0066,  0.1168,  0.1815,  0.0725,  0.0247,\n",
      "          0.1224, -0.1075,  0.0340, -0.1416, -0.1265, -0.0943],\n",
      "        [ 0.0826,  0.0734, -0.1081,  0.0552,  0.1002, -0.0230,  0.0070,  0.0423,\n",
      "          0.1133,  0.1753, -0.1407, -0.0669,  0.0718,  0.1513,  0.1589,  0.1611,\n",
      "          0.0363, -0.1588,  0.0168, -0.1142, -0.1702,  0.1622,  0.1388, -0.1821,\n",
      "          0.0342, -0.0308, -0.0300, -0.0836,  0.0702, -0.1081],\n",
      "        [ 0.0669,  0.0923,  0.1307,  0.0683, -0.1807, -0.1184,  0.0912,  0.0382,\n",
      "         -0.1424, -0.1051,  0.1718,  0.1230, -0.0796, -0.0460, -0.1739, -0.0033,\n",
      "         -0.1375, -0.1408, -0.0101,  0.0274, -0.0748,  0.1083, -0.1111,  0.1657,\n",
      "          0.1251, -0.1540, -0.0454,  0.0082,  0.0266,  0.0433],\n",
      "        [ 0.0716,  0.0109, -0.0891,  0.0864, -0.1751, -0.1082, -0.0457, -0.0889,\n",
      "         -0.0639, -0.1496, -0.0388,  0.0390, -0.1189, -0.0094,  0.1307, -0.0188,\n",
      "          0.0051, -0.0158,  0.0369,  0.1161,  0.1729,  0.1159,  0.1733, -0.0132,\n",
      "         -0.1640, -0.0866,  0.1243, -0.0012, -0.0907, -0.1399],\n",
      "        [-0.1709, -0.1541, -0.0370,  0.1001,  0.0987, -0.1761,  0.1139, -0.1429,\n",
      "         -0.0386, -0.0740, -0.0352, -0.0358, -0.1638, -0.1576, -0.0286,  0.0024,\n",
      "         -0.0829,  0.0688, -0.1643, -0.0123,  0.1606, -0.0745,  0.1649,  0.0661,\n",
      "         -0.1648,  0.1155, -0.0211, -0.0815,  0.1460, -0.1475],\n",
      "        [ 0.0196, -0.0382,  0.1304,  0.0510,  0.0877,  0.0645, -0.0439, -0.0384,\n",
      "         -0.1505,  0.0989,  0.1450,  0.1249, -0.1288,  0.0081, -0.1287, -0.1005,\n",
      "         -0.1064,  0.0624, -0.1088, -0.0040,  0.0077,  0.1177, -0.1380, -0.1253,\n",
      "         -0.1060,  0.1278, -0.0656,  0.1540,  0.0660,  0.0231],\n",
      "        [-0.0014, -0.0361,  0.0229, -0.0417, -0.0013,  0.0233, -0.1428, -0.0957,\n",
      "          0.1474, -0.1482, -0.0131,  0.1806,  0.0660,  0.0052, -0.1582,  0.0904,\n",
      "         -0.1300, -0.0518, -0.0613, -0.0270,  0.0020,  0.1506,  0.0228,  0.1635,\n",
      "          0.1117, -0.1154,  0.0819, -0.1291, -0.0774,  0.0537],\n",
      "        [ 0.0603,  0.1370, -0.0588,  0.0003,  0.0940, -0.1766,  0.1320, -0.1510,\n",
      "          0.0025, -0.0310, -0.0962,  0.0241,  0.1510, -0.0534, -0.1084, -0.0675,\n",
      "         -0.1810,  0.0824, -0.0877, -0.1218, -0.1052,  0.1050,  0.0967,  0.1401,\n",
      "          0.0662, -0.0610, -0.0510,  0.0539,  0.1501,  0.0496],\n",
      "        [-0.0864, -0.0858, -0.1726,  0.0394, -0.1025, -0.1628,  0.1601, -0.1186,\n",
      "         -0.0208,  0.0523,  0.0058, -0.1229, -0.1476,  0.1455,  0.0297,  0.1515,\n",
      "         -0.0612,  0.0538, -0.0418, -0.0081, -0.1112,  0.0617,  0.0577, -0.0038,\n",
      "         -0.0411, -0.1125,  0.1263, -0.1359,  0.0748, -0.0614]],\n",
      "       requires_grad=True)\n",
      "Parameter containing:\n",
      "tensor([-0.0881,  0.0328, -0.0948,  0.0421,  0.0359, -0.1356,  0.0304,  0.0778,\n",
      "         0.0723, -0.0230], requires_grad=True)\n",
      "Parameter containing:\n",
      "tensor([[-0.2592, -0.0487,  0.1098, -0.1154,  0.1200,  0.2106, -0.1651,  0.0031,\n",
      "          0.1308,  0.0248],\n",
      "        [ 0.0264,  0.0395, -0.2486,  0.0249,  0.2190,  0.2850,  0.1859,  0.0424,\n",
      "          0.1477, -0.1538]], requires_grad=True)\n",
      "Parameter containing:\n",
      "tensor([-0.2621, -0.2719], requires_grad=True)\n"
     ]
    }
   ],
   "source": [
    "####\n",
    "for parameter in net.parameters():\n",
    "    print(parameter)"
   ]
  },
  {
   "cell_type": "code",
   "execution_count": 161,
   "metadata": {},
   "outputs": [],
   "source": [
    "optimizer = torch.optim.SGD(net.parameters(), lr=0.01)"
   ]
  },
  {
   "cell_type": "code",
   "execution_count": 163,
   "metadata": {},
   "outputs": [
    {
     "data": {
      "text/plain": [
       "SGD (\n",
       "Parameter Group 0\n",
       "    dampening: 0\n",
       "    lr: 0.01\n",
       "    momentum: 0\n",
       "    nesterov: False\n",
       "    weight_decay: 0\n",
       ")"
      ]
     },
     "execution_count": 163,
     "metadata": {},
     "output_type": "execute_result"
    }
   ],
   "source": [
    "optimizer"
   ]
  },
  {
   "cell_type": "code",
   "execution_count": null,
   "metadata": {},
   "outputs": [],
   "source": []
  },
  {
   "cell_type": "code",
   "execution_count": null,
   "metadata": {},
   "outputs": [],
   "source": [
    "# for batch in train_loader:\n",
    "#     print(batch)"
   ]
  },
  {
   "cell_type": "code",
   "execution_count": 164,
   "metadata": {},
   "outputs": [],
   "source": [
    "batch = next(iter(train_loader))"
   ]
  },
  {
   "cell_type": "code",
   "execution_count": 165,
   "metadata": {},
   "outputs": [],
   "source": [
    "x, t = batch"
   ]
  },
  {
   "cell_type": "code",
   "execution_count": 166,
   "metadata": {},
   "outputs": [
    {
     "data": {
      "text/plain": [
       "torch.Size([10, 30])"
      ]
     },
     "execution_count": 166,
     "metadata": {},
     "output_type": "execute_result"
    }
   ],
   "source": [
    "x.shape"
   ]
  },
  {
   "cell_type": "code",
   "execution_count": 168,
   "metadata": {},
   "outputs": [
    {
     "data": {
      "text/plain": [
       "tensor([[ 16.7533,  45.2751],\n",
       "        [ 25.5686,  68.4042],\n",
       "        [ 26.5778,  83.9300],\n",
       "        [ 10.5523,  27.7361],\n",
       "        [ 16.9485,  43.4075],\n",
       "        [ 20.5525,  52.5276],\n",
       "        [ 45.4391, 156.1529],\n",
       "        [ 19.3272,  50.0786],\n",
       "        [ 17.6248,  48.9868],\n",
       "        [ 18.8306,  48.2004]], grad_fn=<AddmmBackward>)"
      ]
     },
     "execution_count": 168,
     "metadata": {},
     "output_type": "execute_result"
    }
   ],
   "source": [
    "y = net(x)\n",
    "y"
   ]
  },
  {
   "cell_type": "code",
   "execution_count": 171,
   "metadata": {},
   "outputs": [
    {
     "data": {
      "text/plain": [
       "tensor(16.8066, grad_fn=<NllLossBackward>)"
      ]
     },
     "execution_count": 171,
     "metadata": {},
     "output_type": "execute_result"
    }
   ],
   "source": [
    "loss = F.cross_entropy(y, t)\n",
    "loss"
   ]
  },
  {
   "cell_type": "code",
   "execution_count": 172,
   "metadata": {},
   "outputs": [],
   "source": [
    "net.fc1.weight.grad"
   ]
  },
  {
   "cell_type": "code",
   "execution_count": 173,
   "metadata": {},
   "outputs": [],
   "source": [
    "net.fc1.bias.grad"
   ]
  },
  {
   "cell_type": "code",
   "execution_count": 176,
   "metadata": {},
   "outputs": [],
   "source": [
    "optimizer.zero_grad()\n",
    "loss.backward()"
   ]
  },
  {
   "cell_type": "code",
   "execution_count": 181,
   "metadata": {
    "collapsed": true,
    "jupyter": {
     "outputs_hidden": true
    }
   },
   "outputs": [
    {
     "data": {
      "text/plain": [
       "tensor([[ 1.0158e+00,  1.3391e+00,  6.6175e+00,  5.7728e+01,  5.2486e-03,\n",
       "          5.5237e-03,  6.5775e-03,  3.6207e-03,  8.5953e-03,  3.2870e-03,\n",
       "          2.5995e-02,  6.8186e-02,  1.8273e-01,  3.0994e+00,  2.8485e-04,\n",
       "          1.0546e-03,  1.8350e-03,  5.8082e-04,  6.9985e-04,  1.3154e-04,\n",
       "          1.2012e+00,  1.8693e+00,  7.8983e+00,  8.1097e+01,  7.0528e-03,\n",
       "          1.3889e-02,  2.0030e-02,  7.6641e-03,  1.3480e-02,  4.3654e-03],\n",
       "        [ 0.0000e+00,  0.0000e+00,  0.0000e+00,  0.0000e+00,  0.0000e+00,\n",
       "          0.0000e+00,  0.0000e+00,  0.0000e+00,  0.0000e+00,  0.0000e+00,\n",
       "          0.0000e+00,  0.0000e+00,  0.0000e+00,  0.0000e+00,  0.0000e+00,\n",
       "          0.0000e+00,  0.0000e+00,  0.0000e+00,  0.0000e+00,  0.0000e+00,\n",
       "          0.0000e+00,  0.0000e+00,  0.0000e+00,  0.0000e+00,  0.0000e+00,\n",
       "          0.0000e+00,  0.0000e+00,  0.0000e+00,  0.0000e+00,  0.0000e+00],\n",
       "        [ 0.0000e+00,  0.0000e+00,  0.0000e+00,  0.0000e+00,  0.0000e+00,\n",
       "          0.0000e+00,  0.0000e+00,  0.0000e+00,  0.0000e+00,  0.0000e+00,\n",
       "          0.0000e+00,  0.0000e+00,  0.0000e+00,  0.0000e+00,  0.0000e+00,\n",
       "          0.0000e+00,  0.0000e+00,  0.0000e+00,  0.0000e+00,  0.0000e+00,\n",
       "          0.0000e+00,  0.0000e+00,  0.0000e+00,  0.0000e+00,  0.0000e+00,\n",
       "          0.0000e+00,  0.0000e+00,  0.0000e+00,  0.0000e+00,  0.0000e+00],\n",
       "        [ 4.9868e-01,  6.5743e-01,  3.2487e+00,  2.8340e+01,  2.5767e-03,\n",
       "          2.7117e-03,  3.2291e-03,  1.7775e-03,  4.2197e-03,  1.6137e-03,\n",
       "          1.2761e-02,  3.3474e-02,  8.9709e-02,  1.5216e+00,  1.3984e-04,\n",
       "          5.1775e-04,  9.0088e-04,  2.8514e-04,  3.4358e-04,  6.4579e-05,\n",
       "          5.8969e-01,  9.1770e-01,  3.8775e+00,  3.9813e+01,  3.4624e-03,\n",
       "          6.8183e-03,  9.8334e-03,  3.7625e-03,  6.6177e-03,  2.1431e-03],\n",
       "        [ 3.5185e-01,  4.6385e-01,  2.2921e+00,  1.9996e+01,  1.8180e-03,\n",
       "          1.9133e-03,  2.2783e-03,  1.2541e-03,  2.9772e-03,  1.1386e-03,\n",
       "          9.0039e-03,  2.3618e-02,  6.3295e-02,  1.0735e+00,  9.8667e-05,\n",
       "          3.6530e-04,  6.3562e-04,  2.0118e-04,  2.4241e-04,  4.5564e-05,\n",
       "          4.1606e-01,  6.4749e-01,  2.7358e+00,  2.8090e+01,  2.4429e-03,\n",
       "          4.8107e-03,  6.9380e-03,  2.6547e-03,  4.6692e-03,  1.5121e-03],\n",
       "        [ 2.6443e-01,  3.4861e-01,  1.7227e+00,  1.5028e+01,  1.3663e-03,\n",
       "          1.4379e-03,  1.7122e-03,  9.4253e-04,  2.2375e-03,  8.5568e-04,\n",
       "          6.7669e-03,  1.7750e-02,  4.7569e-02,  8.0682e-01,  7.4153e-05,\n",
       "          2.7454e-04,  4.7770e-04,  1.5120e-04,  1.8219e-04,  3.4243e-05,\n",
       "          3.1269e-01,  4.8662e-01,  2.0561e+00,  2.1111e+01,  1.8360e-03,\n",
       "          3.6154e-03,  5.2142e-03,  1.9951e-03,  3.5091e-03,  1.1364e-03],\n",
       "        [ 0.0000e+00,  0.0000e+00,  0.0000e+00,  0.0000e+00,  0.0000e+00,\n",
       "          0.0000e+00,  0.0000e+00,  0.0000e+00,  0.0000e+00,  0.0000e+00,\n",
       "          0.0000e+00,  0.0000e+00,  0.0000e+00,  0.0000e+00,  0.0000e+00,\n",
       "          0.0000e+00,  0.0000e+00,  0.0000e+00,  0.0000e+00,  0.0000e+00,\n",
       "          0.0000e+00,  0.0000e+00,  0.0000e+00,  0.0000e+00,  0.0000e+00,\n",
       "          0.0000e+00,  0.0000e+00,  0.0000e+00,  0.0000e+00,  0.0000e+00],\n",
       "        [ 1.3960e-01,  1.8404e-01,  9.0943e-01,  7.9334e+00,  7.2131e-04,\n",
       "          7.5911e-04,  9.0393e-04,  4.9758e-04,  1.1812e-03,  4.5173e-04,\n",
       "          3.5724e-03,  9.3706e-03,  2.5113e-02,  4.2594e-01,  3.9147e-05,\n",
       "          1.4494e-04,  2.5219e-04,  7.9821e-05,  9.6179e-05,  1.8078e-05,\n",
       "          1.6508e-01,  2.5690e-01,  1.0855e+00,  1.1145e+01,  9.6925e-04,\n",
       "          1.9087e-03,  2.7527e-03,  1.0533e-03,  1.8525e-03,  5.9992e-04],\n",
       "        [ 6.0178e-02,  7.9335e-02,  3.9204e-01,  3.4200e+00,  3.1094e-04,\n",
       "          3.2724e-04,  3.8967e-04,  2.1450e-04,  5.0921e-04,  1.9473e-04,\n",
       "          1.5400e-03,  4.0395e-03,  1.0826e-02,  1.8361e-01,  1.6876e-05,\n",
       "          6.2480e-05,  1.0871e-04,  3.4409e-05,  4.1461e-05,  7.7930e-06,\n",
       "          7.1161e-02,  1.1074e-01,  4.6792e-01,  4.8044e+00,  4.1783e-04,\n",
       "          8.2280e-04,  1.1866e-03,  4.5404e-04,  7.9860e-04,  2.5862e-04],\n",
       "        [-6.3519e-01, -8.3739e-01, -4.1380e+00, -3.6098e+01, -3.2820e-03,\n",
       "         -3.4540e-03, -4.1130e-03, -2.2641e-03, -5.3748e-03, -2.0554e-03,\n",
       "         -1.6255e-02, -4.2637e-02, -1.1427e-01, -1.9381e+00, -1.7812e-04,\n",
       "         -6.5948e-04, -1.1475e-03, -3.6320e-04, -4.3763e-04, -8.2256e-05,\n",
       "         -7.5111e-01, -1.1689e+00, -4.9389e+00, -5.0711e+01, -4.4102e-03,\n",
       "         -8.6847e-03, -1.2525e-02, -4.7925e-03, -8.4292e-03, -2.7297e-03]])"
      ]
     },
     "execution_count": 181,
     "metadata": {},
     "output_type": "execute_result"
    }
   ],
   "source": [
    "net.fc1.weight.grad"
   ]
  },
  {
   "cell_type": "code",
   "execution_count": 182,
   "metadata": {},
   "outputs": [],
   "source": [
    "optimizer.step()"
   ]
  },
  {
   "cell_type": "code",
   "execution_count": 183,
   "metadata": {
    "collapsed": true,
    "jupyter": {
     "outputs_hidden": true
    }
   },
   "outputs": [
    {
     "data": {
      "text/plain": [
       "tensor([[ 1.0158e+00,  1.3391e+00,  6.6175e+00,  5.7728e+01,  5.2486e-03,\n",
       "          5.5237e-03,  6.5775e-03,  3.6207e-03,  8.5953e-03,  3.2870e-03,\n",
       "          2.5995e-02,  6.8186e-02,  1.8273e-01,  3.0994e+00,  2.8485e-04,\n",
       "          1.0546e-03,  1.8350e-03,  5.8082e-04,  6.9985e-04,  1.3154e-04,\n",
       "          1.2012e+00,  1.8693e+00,  7.8983e+00,  8.1097e+01,  7.0528e-03,\n",
       "          1.3889e-02,  2.0030e-02,  7.6641e-03,  1.3480e-02,  4.3654e-03],\n",
       "        [ 0.0000e+00,  0.0000e+00,  0.0000e+00,  0.0000e+00,  0.0000e+00,\n",
       "          0.0000e+00,  0.0000e+00,  0.0000e+00,  0.0000e+00,  0.0000e+00,\n",
       "          0.0000e+00,  0.0000e+00,  0.0000e+00,  0.0000e+00,  0.0000e+00,\n",
       "          0.0000e+00,  0.0000e+00,  0.0000e+00,  0.0000e+00,  0.0000e+00,\n",
       "          0.0000e+00,  0.0000e+00,  0.0000e+00,  0.0000e+00,  0.0000e+00,\n",
       "          0.0000e+00,  0.0000e+00,  0.0000e+00,  0.0000e+00,  0.0000e+00],\n",
       "        [ 0.0000e+00,  0.0000e+00,  0.0000e+00,  0.0000e+00,  0.0000e+00,\n",
       "          0.0000e+00,  0.0000e+00,  0.0000e+00,  0.0000e+00,  0.0000e+00,\n",
       "          0.0000e+00,  0.0000e+00,  0.0000e+00,  0.0000e+00,  0.0000e+00,\n",
       "          0.0000e+00,  0.0000e+00,  0.0000e+00,  0.0000e+00,  0.0000e+00,\n",
       "          0.0000e+00,  0.0000e+00,  0.0000e+00,  0.0000e+00,  0.0000e+00,\n",
       "          0.0000e+00,  0.0000e+00,  0.0000e+00,  0.0000e+00,  0.0000e+00],\n",
       "        [ 4.9868e-01,  6.5743e-01,  3.2487e+00,  2.8340e+01,  2.5767e-03,\n",
       "          2.7117e-03,  3.2291e-03,  1.7775e-03,  4.2197e-03,  1.6137e-03,\n",
       "          1.2761e-02,  3.3474e-02,  8.9709e-02,  1.5216e+00,  1.3984e-04,\n",
       "          5.1775e-04,  9.0088e-04,  2.8514e-04,  3.4358e-04,  6.4579e-05,\n",
       "          5.8969e-01,  9.1770e-01,  3.8775e+00,  3.9813e+01,  3.4624e-03,\n",
       "          6.8183e-03,  9.8334e-03,  3.7625e-03,  6.6177e-03,  2.1431e-03],\n",
       "        [ 3.5185e-01,  4.6385e-01,  2.2921e+00,  1.9996e+01,  1.8180e-03,\n",
       "          1.9133e-03,  2.2783e-03,  1.2541e-03,  2.9772e-03,  1.1386e-03,\n",
       "          9.0039e-03,  2.3618e-02,  6.3295e-02,  1.0735e+00,  9.8667e-05,\n",
       "          3.6530e-04,  6.3562e-04,  2.0118e-04,  2.4241e-04,  4.5564e-05,\n",
       "          4.1606e-01,  6.4749e-01,  2.7358e+00,  2.8090e+01,  2.4429e-03,\n",
       "          4.8107e-03,  6.9380e-03,  2.6547e-03,  4.6692e-03,  1.5121e-03],\n",
       "        [ 2.6443e-01,  3.4861e-01,  1.7227e+00,  1.5028e+01,  1.3663e-03,\n",
       "          1.4379e-03,  1.7122e-03,  9.4253e-04,  2.2375e-03,  8.5568e-04,\n",
       "          6.7669e-03,  1.7750e-02,  4.7569e-02,  8.0682e-01,  7.4153e-05,\n",
       "          2.7454e-04,  4.7770e-04,  1.5120e-04,  1.8219e-04,  3.4243e-05,\n",
       "          3.1269e-01,  4.8662e-01,  2.0561e+00,  2.1111e+01,  1.8360e-03,\n",
       "          3.6154e-03,  5.2142e-03,  1.9951e-03,  3.5091e-03,  1.1364e-03],\n",
       "        [ 0.0000e+00,  0.0000e+00,  0.0000e+00,  0.0000e+00,  0.0000e+00,\n",
       "          0.0000e+00,  0.0000e+00,  0.0000e+00,  0.0000e+00,  0.0000e+00,\n",
       "          0.0000e+00,  0.0000e+00,  0.0000e+00,  0.0000e+00,  0.0000e+00,\n",
       "          0.0000e+00,  0.0000e+00,  0.0000e+00,  0.0000e+00,  0.0000e+00,\n",
       "          0.0000e+00,  0.0000e+00,  0.0000e+00,  0.0000e+00,  0.0000e+00,\n",
       "          0.0000e+00,  0.0000e+00,  0.0000e+00,  0.0000e+00,  0.0000e+00],\n",
       "        [ 1.3960e-01,  1.8404e-01,  9.0943e-01,  7.9334e+00,  7.2131e-04,\n",
       "          7.5911e-04,  9.0393e-04,  4.9758e-04,  1.1812e-03,  4.5173e-04,\n",
       "          3.5724e-03,  9.3706e-03,  2.5113e-02,  4.2594e-01,  3.9147e-05,\n",
       "          1.4494e-04,  2.5219e-04,  7.9821e-05,  9.6179e-05,  1.8078e-05,\n",
       "          1.6508e-01,  2.5690e-01,  1.0855e+00,  1.1145e+01,  9.6925e-04,\n",
       "          1.9087e-03,  2.7527e-03,  1.0533e-03,  1.8525e-03,  5.9992e-04],\n",
       "        [ 6.0178e-02,  7.9335e-02,  3.9204e-01,  3.4200e+00,  3.1094e-04,\n",
       "          3.2724e-04,  3.8967e-04,  2.1450e-04,  5.0921e-04,  1.9473e-04,\n",
       "          1.5400e-03,  4.0395e-03,  1.0826e-02,  1.8361e-01,  1.6876e-05,\n",
       "          6.2480e-05,  1.0871e-04,  3.4409e-05,  4.1461e-05,  7.7930e-06,\n",
       "          7.1161e-02,  1.1074e-01,  4.6792e-01,  4.8044e+00,  4.1783e-04,\n",
       "          8.2280e-04,  1.1866e-03,  4.5404e-04,  7.9860e-04,  2.5862e-04],\n",
       "        [-6.3519e-01, -8.3739e-01, -4.1380e+00, -3.6098e+01, -3.2820e-03,\n",
       "         -3.4540e-03, -4.1130e-03, -2.2641e-03, -5.3748e-03, -2.0554e-03,\n",
       "         -1.6255e-02, -4.2637e-02, -1.1427e-01, -1.9381e+00, -1.7812e-04,\n",
       "         -6.5948e-04, -1.1475e-03, -3.6320e-04, -4.3763e-04, -8.2256e-05,\n",
       "         -7.5111e-01, -1.1689e+00, -4.9389e+00, -5.0711e+01, -4.4102e-03,\n",
       "         -8.6847e-03, -1.2525e-02, -4.7925e-03, -8.4292e-03, -2.7297e-03]])"
      ]
     },
     "execution_count": 183,
     "metadata": {},
     "output_type": "execute_result"
    }
   ],
   "source": [
    "net.fc1.weight.grad"
   ]
  },
  {
   "cell_type": "code",
   "execution_count": 184,
   "metadata": {},
   "outputs": [
    {
     "data": {
      "text/plain": [
       "False"
      ]
     },
     "execution_count": 184,
     "metadata": {},
     "output_type": "execute_result"
    }
   ],
   "source": [
    "torch.cuda.is_available()"
   ]
  },
  {
   "cell_type": "code",
   "execution_count": 195,
   "metadata": {},
   "outputs": [],
   "source": [
    "device = torch.device('cuda:0' if torch.cuda.is_available() else 'cpu')"
   ]
  },
  {
   "cell_type": "code",
   "execution_count": null,
   "metadata": {},
   "outputs": [],
   "source": []
  },
  {
   "cell_type": "code",
   "execution_count": null,
   "metadata": {},
   "outputs": [],
   "source": []
  },
  {
   "cell_type": "code",
   "execution_count": 196,
   "metadata": {},
   "outputs": [],
   "source": [
    "max_epoch = 1"
   ]
  },
  {
   "cell_type": "code",
   "execution_count": 197,
   "metadata": {},
   "outputs": [],
   "source": [
    "torch.manual_seed(0)\n",
    "net = Net().to(device)"
   ]
  },
  {
   "cell_type": "code",
   "execution_count": 198,
   "metadata": {},
   "outputs": [],
   "source": [
    "optimizer = torch.optim.SGD(net.parameters(), lr=0.1)"
   ]
  },
  {
   "cell_type": "code",
   "execution_count": null,
   "metadata": {},
   "outputs": [],
   "source": []
  },
  {
   "cell_type": "code",
   "execution_count": null,
   "metadata": {},
   "outputs": [],
   "source": [
    "####　ネットワークを訓練loop"
   ]
  },
  {
   "cell_type": "code",
   "execution_count": 199,
   "metadata": {},
   "outputs": [
    {
     "name": "stdout",
     "output_type": "stream",
     "text": [
      "loss: 16.806604385375977\n",
      "loss: 3188.808837890625\n",
      "loss: 0.6884490251541138\n",
      "loss: 0.6869568824768066\n",
      "loss: 0.6687623858451843\n",
      "loss: 0.6955960988998413\n",
      "loss: 0.6687501668930054\n",
      "loss: 0.6633249521255493\n",
      "loss: 0.69804447889328\n",
      "loss: 0.7352138161659241\n",
      "loss: 0.709438681602478\n",
      "loss: 0.6499481797218323\n",
      "loss: 0.6415844559669495\n",
      "loss: 0.652747631072998\n",
      "loss: 0.6223450303077698\n",
      "loss: 0.5804502367973328\n",
      "loss: 0.5977975130081177\n",
      "loss: 0.7566229701042175\n",
      "loss: 0.6353701949119568\n",
      "loss: 0.5932738780975342\n",
      "loss: 0.7609547972679138\n",
      "loss: 0.6332759857177734\n",
      "loss: 0.7148119807243347\n",
      "loss: 0.5935741662979126\n",
      "loss: 0.6293730735778809\n",
      "loss: 0.8101435899734497\n",
      "loss: 0.6336615681648254\n",
      "loss: 0.6315973997116089\n",
      "loss: 0.7164894938468933\n",
      "loss: 0.6730174422264099\n",
      "loss: 0.6730170249938965\n",
      "loss: 0.7553771734237671\n",
      "loss: 0.7846001386642456\n",
      "loss: 0.6114135980606079\n"
     ]
    }
   ],
   "source": [
    "for eopch in range(max_epoch):\n",
    "    \n",
    "    for batch in train_loader:\n",
    "        #1\n",
    "        x,t = batch\n",
    "        x = x.to(device)\n",
    "        t = t.to(device)\n",
    "        #2\n",
    "        y = net(x)\n",
    "\n",
    "        loss = F.cross_entropy(y,t)\n",
    "        print(f'loss: {loss}')\n",
    "        \n",
    "\n",
    "        optimizer.zero_grad()\n",
    "        loss.backward()\n",
    "\n",
    "        optimizer.step()"
   ]
  },
  {
   "cell_type": "code",
   "execution_count": null,
   "metadata": {},
   "outputs": [],
   "source": []
  },
  {
   "cell_type": "code",
   "execution_count": null,
   "metadata": {},
   "outputs": [],
   "source": []
  },
  {
   "cell_type": "code",
   "execution_count": 200,
   "metadata": {},
   "outputs": [],
   "source": [
    "#accuracy\n",
    "x, t = next(iter(train_loader))"
   ]
  },
  {
   "cell_type": "code",
   "execution_count": 201,
   "metadata": {},
   "outputs": [
    {
     "data": {
      "text/plain": [
       "Net(\n",
       "  (fc1): Linear(in_features=30, out_features=10, bias=True)\n",
       "  (fc2): Linear(in_features=10, out_features=2, bias=True)\n",
       ")"
      ]
     },
     "execution_count": 201,
     "metadata": {},
     "output_type": "execute_result"
    }
   ],
   "source": [
    "net.cpu()"
   ]
  },
  {
   "cell_type": "code",
   "execution_count": 202,
   "metadata": {},
   "outputs": [
    {
     "data": {
      "text/plain": [
       "tensor([[-0.4458, -0.0882],\n",
       "        [-0.4458, -0.0882],\n",
       "        [-0.4458, -0.0882],\n",
       "        [-0.4458, -0.0882],\n",
       "        [-0.4458, -0.0882],\n",
       "        [-0.4458, -0.0882],\n",
       "        [-0.4458, -0.0882],\n",
       "        [-0.4458, -0.0882],\n",
       "        [-0.4458, -0.0882],\n",
       "        [-0.4458, -0.0882]], grad_fn=<AddmmBackward>)"
      ]
     },
     "execution_count": 202,
     "metadata": {},
     "output_type": "execute_result"
    }
   ],
   "source": [
    "y = net(x)\n",
    "y"
   ]
  },
  {
   "cell_type": "code",
   "execution_count": 203,
   "metadata": {},
   "outputs": [
    {
     "data": {
      "text/plain": [
       "tensor([0, 1, 1, 1, 0, 1, 0, 1, 1, 1])"
      ]
     },
     "execution_count": 203,
     "metadata": {},
     "output_type": "execute_result"
    }
   ],
   "source": [
    "t"
   ]
  },
  {
   "cell_type": "code",
   "execution_count": 205,
   "metadata": {},
   "outputs": [
    {
     "name": "stderr",
     "output_type": "stream",
     "text": [
      "<ipython-input-205-a481467c755f>:1: UserWarning: Implicit dimension choice for softmax has been deprecated. Change the call to include dim=X as an argument.\n",
      "  F.softmax(y)\n"
     ]
    },
    {
     "data": {
      "text/plain": [
       "tensor([[0.4115, 0.5885],\n",
       "        [0.4115, 0.5885],\n",
       "        [0.4115, 0.5885],\n",
       "        [0.4115, 0.5885],\n",
       "        [0.4115, 0.5885],\n",
       "        [0.4115, 0.5885],\n",
       "        [0.4115, 0.5885],\n",
       "        [0.4115, 0.5885],\n",
       "        [0.4115, 0.5885],\n",
       "        [0.4115, 0.5885]], grad_fn=<SoftmaxBackward>)"
      ]
     },
     "execution_count": 205,
     "metadata": {},
     "output_type": "execute_result"
    }
   ],
   "source": [
    "F.softmax(y)"
   ]
  },
  {
   "cell_type": "code",
   "execution_count": 209,
   "metadata": {},
   "outputs": [],
   "source": [
    "y_label = torch.argmax(y, dim=1)"
   ]
  },
  {
   "cell_type": "code",
   "execution_count": 210,
   "metadata": {},
   "outputs": [
    {
     "data": {
      "text/plain": [
       "tensor([False,  True,  True,  True, False,  True, False,  True,  True,  True])"
      ]
     },
     "execution_count": 210,
     "metadata": {},
     "output_type": "execute_result"
    }
   ],
   "source": [
    "y_label == t"
   ]
  },
  {
   "cell_type": "code",
   "execution_count": 212,
   "metadata": {},
   "outputs": [
    {
     "data": {
      "text/plain": [
       "tensor(7)"
      ]
     },
     "execution_count": 212,
     "metadata": {},
     "output_type": "execute_result"
    }
   ],
   "source": [
    "(y_label == t).sum()"
   ]
  },
  {
   "cell_type": "code",
   "execution_count": 213,
   "metadata": {},
   "outputs": [
    {
     "data": {
      "text/plain": [
       "10"
      ]
     },
     "execution_count": 213,
     "metadata": {},
     "output_type": "execute_result"
    }
   ],
   "source": [
    "len(t)"
   ]
  },
  {
   "cell_type": "code",
   "execution_count": 214,
   "metadata": {},
   "outputs": [
    {
     "data": {
      "text/plain": [
       "tensor(0.7000)"
      ]
     },
     "execution_count": 214,
     "metadata": {},
     "output_type": "execute_result"
    }
   ],
   "source": [
    "(y_label == t).sum()/len(t)"
   ]
  },
  {
   "cell_type": "code",
   "execution_count": null,
   "metadata": {},
   "outputs": [],
   "source": []
  },
  {
   "cell_type": "code",
   "execution_count": 218,
   "metadata": {},
   "outputs": [
    {
     "name": "stdout",
     "output_type": "stream",
     "text": [
      "accuracy:0.80\n",
      "accuracy:0.50\n",
      "accuracy:0.60\n",
      "accuracy:0.60\n",
      "accuracy:0.80\n",
      "accuracy:0.50\n",
      "accuracy:0.70\n",
      "accuracy:0.70\n",
      "accuracy:0.50\n",
      "accuracy:0.30\n",
      "accuracy:0.40\n",
      "accuracy:0.90\n",
      "accuracy:0.80\n",
      "accuracy:0.70\n",
      "accuracy:0.80\n",
      "accuracy:0.90\n",
      "accuracy:0.80\n",
      "accuracy:0.40\n",
      "accuracy:0.70\n",
      "accuracy:0.80\n",
      "accuracy:0.40\n",
      "accuracy:0.70\n",
      "accuracy:0.50\n",
      "accuracy:0.80\n",
      "accuracy:0.70\n",
      "accuracy:0.30\n",
      "accuracy:0.70\n",
      "accuracy:0.70\n",
      "accuracy:0.50\n",
      "accuracy:0.60\n",
      "accuracy:0.60\n",
      "accuracy:0.40\n",
      "accuracy:0.30\n",
      "accuracy:0.80\n"
     ]
    }
   ],
   "source": [
    "torch.manual_seed(0)\n",
    "net = Net().to(device)\n",
    "\n",
    "optimizer = torch.optim.SGD(net.parameters(), lr=0.1)\n",
    "\n",
    "for eopch in range(max_epoch):\n",
    "    \n",
    "    for batch in train_loader:\n",
    "        #1\n",
    "        x,t = batch\n",
    "        x = x.to(device)\n",
    "        t = t.to(device)\n",
    "        #2\n",
    "        y = net(x)\n",
    "        #accuracy\n",
    "        y_label = torch.argmax(y, dim=1)\n",
    "        accuracy = (y_label == t).sum()/len(t)\n",
    "        print(f'accuracy:{accuracy:.2f}')\n",
    "\n",
    "        loss = F.cross_entropy(y,t)\n",
    "#         print(f'loss: {loss}')\n",
    "        \n",
    "\n",
    "        optimizer.zero_grad()\n",
    "        loss.backward()\n",
    "\n",
    "        optimizer.step()"
   ]
  },
  {
   "cell_type": "code",
   "execution_count": null,
   "metadata": {},
   "outputs": [],
   "source": [
    "##### after svcore result   with torch.no_grad"
   ]
  },
  {
   "cell_type": "code",
   "execution_count": null,
   "metadata": {},
   "outputs": [],
   "source": [
    "# val_loader, test_loader"
   ]
  },
  {
   "cell_type": "code",
   "execution_count": 223,
   "metadata": {},
   "outputs": [],
   "source": [
    "def calc_accuracy(data_loader):\n",
    "\n",
    "    with torch.no_grad():\n",
    "        total = 0\n",
    "        correct = 0\n",
    "\n",
    "        for batch in val_loader:\n",
    "            x, t = batch\n",
    "            x = x.to(device)\n",
    "            t = t.to(device)\n",
    "            y = net(x)\n",
    "\n",
    "            y_label = torch.argmax(y, dim=1)\n",
    "            total += len(t)\n",
    "            correct += (y_label == t).sum()\n",
    "\n",
    "        accuracy = correct / total\n",
    "        \n",
    "    return accuracy"
   ]
  },
  {
   "cell_type": "code",
   "execution_count": 224,
   "metadata": {},
   "outputs": [
    {
     "data": {
      "text/plain": [
       "tensor(0.6217)"
      ]
     },
     "execution_count": 224,
     "metadata": {},
     "output_type": "execute_result"
    }
   ],
   "source": [
    "calc_accuracy(val_loader)"
   ]
  },
  {
   "cell_type": "code",
   "execution_count": 225,
   "metadata": {},
   "outputs": [
    {
     "data": {
      "text/plain": [
       "tensor(0.6217)"
      ]
     },
     "execution_count": 225,
     "metadata": {},
     "output_type": "execute_result"
    }
   ],
   "source": [
    "calc_accuracy(test_loader)"
   ]
  },
  {
   "cell_type": "code",
   "execution_count": null,
   "metadata": {},
   "outputs": [],
   "source": []
  },
  {
   "cell_type": "code",
   "execution_count": null,
   "metadata": {},
   "outputs": [],
   "source": []
  },
  {
   "cell_type": "code",
   "execution_count": null,
   "metadata": {},
   "outputs": [],
   "source": []
  },
  {
   "cell_type": "code",
   "execution_count": null,
   "metadata": {},
   "outputs": [],
   "source": []
  },
  {
   "cell_type": "code",
   "execution_count": null,
   "metadata": {},
   "outputs": [],
   "source": []
  },
  {
   "cell_type": "code",
   "execution_count": null,
   "metadata": {},
   "outputs": [],
   "source": []
  },
  {
   "cell_type": "code",
   "execution_count": null,
   "metadata": {},
   "outputs": [],
   "source": []
  },
  {
   "cell_type": "code",
   "execution_count": null,
   "metadata": {},
   "outputs": [],
   "source": []
  },
  {
   "cell_type": "code",
   "execution_count": null,
   "metadata": {},
   "outputs": [],
   "source": []
  },
  {
   "cell_type": "code",
   "execution_count": null,
   "metadata": {},
   "outputs": [],
   "source": []
  },
  {
   "cell_type": "code",
   "execution_count": null,
   "metadata": {},
   "outputs": [],
   "source": []
  },
  {
   "cell_type": "code",
   "execution_count": null,
   "metadata": {},
   "outputs": [],
   "source": []
  },
  {
   "cell_type": "code",
   "execution_count": null,
   "metadata": {},
   "outputs": [],
   "source": []
  },
  {
   "cell_type": "code",
   "execution_count": null,
   "metadata": {},
   "outputs": [],
   "source": []
  },
  {
   "cell_type": "code",
   "execution_count": null,
   "metadata": {},
   "outputs": [],
   "source": []
  },
  {
   "cell_type": "code",
   "execution_count": null,
   "metadata": {},
   "outputs": [],
   "source": []
  },
  {
   "cell_type": "code",
   "execution_count": null,
   "metadata": {},
   "outputs": [],
   "source": []
  },
  {
   "cell_type": "code",
   "execution_count": null,
   "metadata": {},
   "outputs": [],
   "source": []
  },
  {
   "cell_type": "code",
   "execution_count": null,
   "metadata": {},
   "outputs": [],
   "source": []
  },
  {
   "cell_type": "code",
   "execution_count": null,
   "metadata": {},
   "outputs": [],
   "source": []
  },
  {
   "cell_type": "code",
   "execution_count": null,
   "metadata": {},
   "outputs": [],
   "source": []
  },
  {
   "cell_type": "code",
   "execution_count": null,
   "metadata": {},
   "outputs": [],
   "source": []
  },
  {
   "cell_type": "code",
   "execution_count": null,
   "metadata": {},
   "outputs": [],
   "source": []
  },
  {
   "cell_type": "code",
   "execution_count": null,
   "metadata": {},
   "outputs": [],
   "source": []
  },
  {
   "cell_type": "code",
   "execution_count": null,
   "metadata": {},
   "outputs": [],
   "source": []
  },
  {
   "cell_type": "code",
   "execution_count": null,
   "metadata": {},
   "outputs": [],
   "source": []
  },
  {
   "cell_type": "code",
   "execution_count": null,
   "metadata": {},
   "outputs": [],
   "source": []
  },
  {
   "cell_type": "code",
   "execution_count": null,
   "metadata": {},
   "outputs": [],
   "source": []
  },
  {
   "cell_type": "code",
   "execution_count": null,
   "metadata": {},
   "outputs": [],
   "source": []
  },
  {
   "cell_type": "code",
   "execution_count": null,
   "metadata": {},
   "outputs": [],
   "source": []
  },
  {
   "cell_type": "code",
   "execution_count": null,
   "metadata": {},
   "outputs": [],
   "source": []
  }
 ],
 "metadata": {
  "kernelspec": {
   "display_name": "Python 3",
   "language": "python",
   "name": "python3"
  },
  "language_info": {
   "codemirror_mode": {
    "name": "ipython",
    "version": 3
   },
   "file_extension": ".py",
   "mimetype": "text/x-python",
   "name": "python",
   "nbconvert_exporter": "python",
   "pygments_lexer": "ipython3",
   "version": "3.8.5"
  }
 },
 "nbformat": 4,
 "nbformat_minor": 4
}
